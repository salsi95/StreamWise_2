version https://git-lfs.github.com/spec/v1
oid sha256:47cce7ded0435af076fa2e9cd226b56c0d5cd21241b053a9632a41da15feaf6c
size 18319
