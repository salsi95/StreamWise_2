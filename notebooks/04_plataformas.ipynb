version https://git-lfs.github.com/spec/v1
oid sha256:df7ae3cafa3f8d7a6dba4ec3f230aa2e5a4081f8c45680010db1b46892073eff
size 4920
